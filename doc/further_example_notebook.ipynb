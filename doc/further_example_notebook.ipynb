{
 "cells": [
  {
   "cell_type": "markdown",
   "metadata": {},
   "source": [
    "# Further usage\n",
    "\n",
    "This example shows you a further usage of the windpowerlib and builds on the basic_example.\n",
    "\n",
    "In this example the power output of a wind farm containing two different wind turbine types is calulated. Apart from that, this example shows you how to calculate the power output of a wind turbine cluster. A cluster can be useful if you want to calculate the feed-in of a region for which you want to use one single weather data grid point.\n",
    "\n",
    "Functions that are used in the basic usage example, like the initialization of wind turbines, are imported and used without further explanations."
   ]
  },
  {
   "cell_type": "markdown",
   "metadata": {},
   "source": [
    "### Imports and initialization of wind turbines\n",
    "\n",
    "The import of weather data and the initialization of wind turbines is done as in the basic_example."
   ]
  },
  {
   "cell_type": "code",
   "execution_count": 6,
   "metadata": {},
   "outputs": [],
   "source": [
    "__copyright__ = \"Copyright oemof developer group\"\n",
    "__license__ = \"GPLv3\"\n",
    "\n",
    "import basic_example\n",
    "from windpowerlib.turbine_cluster_modelchain import TurbineClusterModelChain\n",
    "from windpowerlib.wind_turbine_cluster import WindTurbineCluster\n",
    "from windpowerlib.wind_farm import WindFarm\n",
    "\n",
    "import logging\n",
    "logging.getLogger().setLevel(logging.DEBUG)"
   ]
  },
  {
   "cell_type": "code",
   "execution_count": 7,
   "metadata": {},
   "outputs": [
    {
     "name": "stdout",
     "output_type": "stream",
     "text": [
      "variable_name             wind_speed          temperature         pressure\n",
      "height                            10       80          2       10       0 \n",
      "2010-01-01 00:00:00+01:00    5.32697  7.80697      267.60  267.57  98405.7\n",
      "2010-01-01 01:00:00+01:00    5.46199  7.86199      267.60  267.55  98382.7\n",
      "2010-01-01 02:00:00+01:00    5.67899  8.59899      267.61  267.54  98362.9\n",
      "\n",
      "nominal power of my_turbine: 3000000.0\n"
     ]
    }
   ],
   "source": [
    "# Get weather data\n",
    "weather = basic_example.get_weather_data('weather.csv')\n",
    "print(weather[['wind_speed', 'temperature', 'pressure']][0:3])\n",
    "\n",
    "# Initialize wind turbines\n",
    "my_turbine, e126 = basic_example.initialize_wind_turbines()\n",
    "print()\n",
    "print('nominal power of my_turbine: {}'.format(my_turbine.nominal_power))"
   ]
  },
  {
   "cell_type": "markdown",
   "metadata": {},
   "source": [
    "### Initialize wind farm\n",
    "\n",
    "To initialize a specific wind farm you can use a dictionary that contains the basic parameters. A wind farm is defined by its name, wind turbine fleet, and optionally also by a wind farm efficiency and the wind farm's location.\n",
    "\n",
    "A wind farm efficiency can be a constant value or be dependent on the wind speed. The coordinates are not being used here but are necessary if you need to assign your find farm to a certain weather data point."
   ]
  },
  {
   "cell_type": "code",
   "execution_count": 8,
   "metadata": {},
   "outputs": [],
   "source": [
    "# specification of wind farm data\n",
    "example_farm_data = {\n",
    "    'name': 'example_farm',\n",
    "    'wind_turbine_fleet': [{'wind_turbine': my_turbine,\n",
    "                            'number_of_turbines': 6},\n",
    "                           {'wind_turbine': e126,\n",
    "                            'number_of_turbines': 3}\n",
    "                           ]}\n",
    "# initialize WindFarm object\n",
    "example_farm = WindFarm(**example_farm_data)"
   ]
  },
  {
   "cell_type": "code",
   "execution_count": 9,
   "metadata": {},
   "outputs": [
    {
     "name": "stdout",
     "output_type": "stream",
     "text": [
      "nominal power of first turbine type of example_farm_2: 3000000.0\n"
     ]
    }
   ],
   "source": [
    "# specification of wind farm data (2) containing a wind farm efficiency\n",
    "# and coordinates\n",
    "example_farm_2_data = {\n",
    "    'name': 'example_farm_2',\n",
    "    'wind_turbine_fleet': [{'wind_turbine': my_turbine,\n",
    "                            'number_of_turbines': 6},\n",
    "                           {'wind_turbine': e126,\n",
    "                            'number_of_turbines': 3}],\n",
    "    'efficiency': 0.9,\n",
    "    'coordinates': [52.2, 13.1]}\n",
    "\n",
    "# initialize WindFarm object\n",
    "example_farm_2 = WindFarm(**example_farm_2_data)\n",
    "\n",
    "print('nominal power of first turbine type of example_farm_2: {}'.format(\n",
    "    example_farm_2.wind_turbine_fleet[0]['wind_turbine'].nominal_power))"
   ]
  },
  {
   "cell_type": "markdown",
   "metadata": {},
   "source": [
    "### Initialize wind turbine cluster\n",
    "\n",
    "Like for a wind farm for the initialization of a wind turbine cluster you can use a dictionary that contains the basic parameters. A wind turbine cluster is defined by its name, wind farms and optionally by its location."
   ]
  },
  {
   "cell_type": "code",
   "execution_count": 10,
   "metadata": {},
   "outputs": [],
   "source": [
    "# specification of cluster data\n",
    "example_cluster_data = {\n",
    "    'name': 'example_cluster',\n",
    "    'wind_farms': [example_farm, example_farm_2]}\n",
    "\n",
    "# initialize WindTurbineCluster object\n",
    "example_cluster = WindTurbineCluster(**example_cluster_data)\n"
   ]
  },
  {
   "cell_type": "markdown",
   "metadata": {},
   "source": [
    "### Use the TurbineClusterModelChain to calculate power output\n",
    "\n",
    "The TurbineClusterModelChain is a class that provides all necessary steps to calculate the power output of a wind farm or wind turbine cluster. \n",
    "\n",
    "Like the ModelChain (see basic example) you can use the TurbineClusterModelChain with default parameters as shown here for the wind farm or specify custom parameters as done here for the cluster.\n",
    "If you use the 'run_model' method first the wind speed and density (if necessary) at hub height are calculated and then used to calculate the power output. \n",
    "todo adapt"
   ]
  },
  {
   "cell_type": "code",
   "execution_count": 11,
   "metadata": {},
   "outputs": [
    {
     "name": "stderr",
     "output_type": "stream",
     "text": [
      "DEBUG:root:Wake losses considered by dena_mean wind efficiency curve.\n",
      "DEBUG:root:Aggregated power curve smoothed by method: turbulence_intensity\n",
      "DEBUG:root:Calculating wind speed using logarithmic wind profile.\n",
      "DEBUG:root:Calculating power output using power curve.\n"
     ]
    }
   ],
   "source": [
    "# power output calculation for example_farm\n",
    "# initialize TurbineClusterModelChain with default parameters and use\n",
    "# run_model method to calculate power output\n",
    "mc_example_farm = TurbineClusterModelChain(example_farm).run_model(weather)\n",
    "# write power output time series to WindFarm object\n",
    "example_farm.power_output = mc_example_farm.power_output "
   ]
  },
  {
   "cell_type": "code",
   "execution_count": 12,
   "metadata": {},
   "outputs": [
    {
     "name": "stderr",
     "output_type": "stream",
     "text": [
      "DEBUG:root:Wake losses considered with constant_efficiency.\n",
      "DEBUG:root:Aggregated power curve smoothed by method: Staffell_Pfenninger\n",
      "DEBUG:root:Calculating wind speed using logarithmic wind profile.\n",
      "DEBUG:root:Calculating temperature using temperature gradient.\n",
      "DEBUG:root:Calculating density using ideal gas equation.\n",
      "DEBUG:root:Calculating power output using power curve.\n"
     ]
    }
   ],
   "source": [
    "# set efficiency of example_farm to apply wake losses\n",
    "example_farm.efficiency = 0.9\n",
    "\n",
    "# power output calculation for turbine_cluster\n",
    "# own specifications for TurbineClusterModelChain setup\n",
    "modelchain_data = {\n",
    "        'wake_losses_model': 'constant_efficiency',  #\n",
    "                                           # 'dena_mean' (default), None,\n",
    "                                           # 'power_efficiency_curve',\n",
    "                                           # 'constant_efficiency' or name of\n",
    "                                           #  a wind efficiency curve\n",
    "                #  see :py:func:`~.wake_losses.display_wind_efficiency_curves`\n",
    "        'smoothing': True,  # False (default) or True\n",
    "        'block_width': 0.5,  # default: 0.5\n",
    "        'standard_deviation_method': 'Staffell_Pfenninger',  #\n",
    "                                            # 'turbulence_intensity' (default)\n",
    "                                            # or 'Staffell_Pfenninger'\n",
    "        'smoothing_order': 'wind_farm_power_curves',  #\n",
    "                                        # 'wind_farm_power_curves' (default) or\n",
    "                                        # 'turbine_power_curves'\n",
    "        'wind_speed_model': 'logarithmic',  # 'logarithmic' (default),\n",
    "                                            # 'hellman' or\n",
    "                                            # 'interpolation_extrapolation'\n",
    "        'density_model': 'ideal_gas',  # 'barometric' (default), 'ideal_gas' or\n",
    "                                       # 'interpolation_extrapolation'\n",
    "        'temperature_model': 'linear_gradient',  # 'linear_gradient' (def.) or\n",
    "                                                 # 'interpolation_extrapolation'\n",
    "        'power_output_model': 'power_curve',  # 'power_curve' (default) or\n",
    "                                              # 'power_coefficient_curve'\n",
    "        'density_correction': True,  # False (default) or True\n",
    "        'obstacle_height': 0,  # default: 0\n",
    "        'hellman_exp': None}  # None (default) or None\n",
    "# initialize TurbineClusterModelChain with own specifications and use\n",
    "# run_model method to calculate power output\n",
    "mc_example_cluster = TurbineClusterModelChain(\n",
    "        example_cluster, **modelchain_data).run_model(weather)\n",
    "# write power output time series to WindTurbineCluster object\n",
    "example_cluster.power_output = mc_example_cluster.power_output"
   ]
  },
  {
   "cell_type": "markdown",
   "metadata": {},
   "source": [
    "### Plot results\n",
    "\n",
    "If you have matplotlib installed you can visualize the calculated power output."
   ]
  },
  {
   "cell_type": "code",
   "execution_count": 13,
   "metadata": {},
   "outputs": [
    {
     "name": "stderr",
     "output_type": "stream",
     "text": [
      "DEBUG:matplotlib.pyplot:Loaded backend module://ipykernel.pylab.backend_inline version unknown.\n"
     ]
    }
   ],
   "source": [
    "# try to import matplotlib\n",
    "try:\n",
    "    from matplotlib import pyplot as plt\n",
    "    # matplotlib inline needed in notebook to plot inline\n",
    "    %matplotlib inline \n",
    "except ImportError:\n",
    "    plt = None"
   ]
  },
  {
   "cell_type": "code",
   "execution_count": 14,
   "metadata": {},
   "outputs": [
    {
     "name": "stderr",
     "output_type": "stream",
     "text": [
      "DEBUG:matplotlib.axes._base:update_title_pos\n",
      "DEBUG:matplotlib.font_manager:findfont: Matching :family=sans-serif:style=normal:variant=normal:weight=normal:stretch=normal:size=10.0 to DejaVu Sans ('/home/sabine/virtualenvs/windpowerlib/lib/python3.6/site-packages/matplotlib/mpl-data/fonts/ttf/DejaVuSans.ttf') with score of 0.050000.\n",
      "DEBUG:matplotlib.axes._base:update_title_pos\n",
      "DEBUG:matplotlib.axes._base:update_title_pos\n",
      "DEBUG:matplotlib.axes._base:update_title_pos\n"
     ]
    },
    {
     "data": {
      "image/png": "[encoded data removed]",
      "text/plain": [
       "<Figure size 432x288 with 1 Axes>"
      ]
     },
     "metadata": {
      "needs_background": "light"
     },
     "output_type": "display_data"
    }
   ],
   "source": [
    "# plot turbine power output\n",
    "if plt:\n",
    "    example_cluster.power_output.plot(legend=True, label='example cluster')\n",
    "    example_farm.power_output.plot(legend=True, label='example farm')\n",
    "    plt.show()"
   ]
  }
 ],
 "metadata": {
  "kernelspec": {
   "display_name": "Python 3",
   "language": "python",
   "name": "python3"
  },
  "language_info": {
   "codemirror_mode": {
    "name": "ipython",
    "version": 3
   },
   "file_extension": ".py",
   "mimetype": "text/x-python",
   "name": "python",
   "nbconvert_exporter": "python",
   "pygments_lexer": "ipython3",
   "version": "3.6.6"
  }
 },
 "nbformat": 4,
 "nbformat_minor": 1
}
