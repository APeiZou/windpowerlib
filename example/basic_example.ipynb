{
 "cells": [
  {
   "cell_type": "markdown",
   "metadata": {},
   "source": [
    "This example shows you the basic usage of the windpowerlib. There are mainly three steps.\n",
    "First you need to define your wind turbine, then get your weather data and in the last step call the windpowerlib ModelChain to generate your feedin timeseries.\n",
    "Be careful with the units!"
   ]
  },
  {
   "cell_type": "markdown",
   "metadata": {},
   "source": [
    "### Import necessary packages and modules"
   ]
  },
  {
   "cell_type": "code",
   "execution_count": null,
   "metadata": {
    "collapsed": true
   },
   "outputs": [],
   "source": [
    "__copyright__ = \"Copyright oemof developer group\"\n",
    "__license__ = \"GPLv3\"\n",
    "\n",
    "import os\n",
    "import pandas as pd\n",
    "\n",
    "from windpowerlib import modelchain\n",
    "from windpowerlib import wind_turbine as wt"
   ]
  },
  {
   "cell_type": "markdown",
   "metadata": {},
   "source": [
    "You can use the logging package to get logging messages from the windpowerlib. Change the logging level if you want more or less messages."
   ]
  },
  {
   "cell_type": "code",
   "execution_count": null,
   "metadata": {
    "collapsed": true
   },
   "outputs": [],
   "source": [
    "import logging\n",
    "logging.getLogger().setLevel(logging.DEBUG)"
   ]
  },
  {
   "cell_type": "markdown",
   "metadata": {},
   "source": [
    "### Import weather data\n",
    "\n",
    "The function below imports the example weather data from the weather.csv file provided along with the windpowerlib. The data include wind speed at two different heights in m/s, air temperature in two different heights in K, surface roughness length in m and air pressure in Pa.\n",
    "\n",
    "To find out which weather data in which units need to be provided in order to use the ModelChain or other functions of the windpowerlib see the individual function documentation."
   ]
  },
  {
   "cell_type": "code",
   "execution_count": null,
   "metadata": {
    "collapsed": true
   },
   "outputs": [],
   "source": [
    "def read_weather_data(filename, datetime_column='Unnamed: 0',\n",
    "                      **kwargs):\n",
    "    r\"\"\"\n",
    "    Fetches weather data from a file.\n",
    "\n",
    "    The files are located in the example folder of the windpowerlib.\n",
    "\n",
    "    Parameters\n",
    "    ----------\n",
    "    filename : string\n",
    "        Filename of the weather data file.\n",
    "    datetime_column : string\n",
    "        Name of the datetime column of the weather DataFrame.\n",
    "\n",
    "    Other Parameters\n",
    "    ----------------\n",
    "    datapath : string, optional\n",
    "        Path where the weather data file is stored.\n",
    "        Default: 'windpowerlib/example'.\n",
    "\n",
    "    Returns\n",
    "    -------\n",
    "    pandas.DataFrame\n",
    "        Contains weather data time series.\n",
    "\n",
    "    \"\"\"\n",
    "    if 'datapath' not in kwargs:\n",
    "        kwargs['datapath'] = os.path.join(os.path.split(\n",
    "            os.path.dirname(__file__))[0], 'example')\n",
    "\n",
    "    file = os.path.join(kwargs['datapath'], filename)\n",
    "    df = pd.read_csv(file)\n",
    "    return df.set_index(pd.to_datetime(df[datetime_column])).tz_localize(\n",
    "        'UTC').tz_convert('Europe/Berlin').drop(datetime_column, 1)\n",
    "\n",
    "\n",
    "# Read weather data from csv\n",
    "weather = read_weather_data('weather.csv')"
   ]
  },
  {
   "cell_type": "markdown",
   "metadata": {},
   "source": [
    "Along with the weather data you have to provide a dataframe or dictionary specifying the height for which the data applies."
   ]
  },
  {
   "cell_type": "code",
   "execution_count": null,
   "metadata": {
    "collapsed": true
   },
   "outputs": [],
   "source": [
    "data_height = {\n",
    "    'pressure': 0,\n",
    "    'temp_air': 2,\n",
    "    'v_wind': 10,\n",
    "    'temp_air_2': 10,\n",
    "    'v_wind_2': 80}"
   ]
  },
  {
   "cell_type": "markdown",
   "metadata": {},
   "source": [
    "### Initialise wind turbine"
   ]
  },
  {
   "cell_type": "markdown",
   "metadata": {},
   "source": [
    "There are two ways to initialize a WindTurbine object. You can either specify your own turbine, as done below or use"
   ]
  },
  {
   "cell_type": "code",
   "execution_count": null,
   "metadata": {
    "collapsed": true
   },
   "outputs": [],
   "source": [
    "wt.get_turbine_types()\n",
    "turbines[turbines[\"turbine_id\"].str.contains(\"VESTAS\")]"
   ]
  },
  {
   "cell_type": "code",
   "execution_count": null,
   "metadata": {
    "collapsed": true
   },
   "outputs": [],
   "source": [
    "# Specifications of the wind turbines\n",
    "enerconE126 = {\n",
    "    'hub_height': 135,\n",
    "    'd_rotor': 127,\n",
    "    'fetch_curve': 'P',  # 'P' vor p-curve and 'cp' for cp-curve\n",
    "    'turbine_name': 'ENERCON E 126 7500'}  # Turbine name as in register. Use\n",
    "                                           # wind_turbine.get_turbine_types()\n",
    "P_data = {0:\n",
    "         3:\n",
    "         5:\n",
    "         10:\n",
    "         15:\n",
    "         20:\n",
    "         25:}\n",
    "# for a full list.\n",
    "vestasV90 = {\n",
    "    'hub_height': 105,\n",
    "    'd_rotor': 90,\n",
    "    'fetch_curve': 'P',\n",
    "    'turbine_name': 'VESTAS V 90 3000'}\n",
    "\n",
    "# Initialize WindTurbine objects\n",
    "e126 = wt.WindTurbine(**enerconE126)\n",
    "v90 = wt.WindTurbine(**vestasV90)"
   ]
  },
  {
   "cell_type": "markdown",
   "metadata": {},
   "source": [
    "### Use the ModelChain to generate feedin timeseries"
   ]
  },
  {
   "cell_type": "code",
   "execution_count": null,
   "metadata": {
    "collapsed": true
   },
   "outputs": [],
   "source": [
    "# Specifications of the modelchain data\n",
    "modelchain_data = {\n",
    "    'obstacle_height': 0,\n",
    "    'wind_model': 'logarithmic',       # 'logarithmic' or 'hellman'\n",
    "    'rho_model': 'ideal_gas',          # 'barometric' or 'ideal_gas'\n",
    "    'power_output_model': 'p_values',  # 'p_values' or 'cp_values'\n",
    "    'density_corr': False,             # True or False\n",
    "    'hellman_exp': None}               # Float or None\n",
    "\n",
    "# Calculate turbine power output\n",
    "mc_e126 = modelchain.ModelChain(e126, **modelchain_data).run_model(\n",
    "    weather, coastDat2)\n",
    "e126.power_output = mc_e126.power_output\n",
    "mc_v90 = modelchain.ModelChain(v90, **modelchain_data).run_model(\n",
    "    weather, coastDat2)\n",
    "v90.power_output = mc_v90.power_output\n",
    "\n",
    "\n"
   ]
  },
  {
   "cell_type": "markdown",
   "metadata": {},
   "source": [
    "### Plot results"
   ]
  },
  {
   "cell_type": "code",
   "execution_count": null,
   "metadata": {
    "collapsed": true
   },
   "outputs": [],
   "source": [
    "try:\n",
    "    from matplotlib import pyplot as plt\n",
    "except ImportError:\n",
    "    plt = None\n",
    "# Plot turbine power output\n",
    "if plt:\n",
    "    e126.power_output.plot(legend=True, label='Enercon E126')\n",
    "    v90.power_output.plot(legend=True, label='Vestas V90')\n",
    "    plt.show()\n",
    "else:\n",
    "    print(e126.power_output)\n",
    "    print(v90.power_output)\n",
    "\n",
    "# Plot power (coefficient) curves\n",
    "if plt:\n",
    "    if e126.cp_values is not None:\n",
    "        e126.cp_values.plot(style='*', title='Enercon E126')\n",
    "        plt.show()\n",
    "    if e126.p_values is not None:\n",
    "        e126.p_values.plot(style='*', title='Enercon E126')\n",
    "        plt.show()\n",
    "    if v90.cp_values is not None:\n",
    "        v90.cp_values.plot(style='*', title='Vestas V90')\n",
    "        plt.show()\n",
    "    if v90.p_values is not None:\n",
    "        v90.p_values.plot(style='*', title='Vestas V90')\n",
    "        plt.show()\n",
    "else:\n",
    "    if e126.cp_values is not None:\n",
    "        print(\"The cp value at a wind speed of 5 m/s: {0}\".format(\n",
    "            e126.cp_values.cp[5.0]))\n",
    "    if e126.p_values is not None:\n",
    "        print(\"The P value at a wind speed of 5 m/s: {0}\".format(\n",
    "            e126.p_values.P[5.0]))\n",
    "logging.info('Done!')"
   ]
  }
 ],
 "metadata": {
  "kernelspec": {
   "display_name": "Python 3",
   "language": "python",
   "name": "python3"
  },
  "language_info": {
   "codemirror_mode": {
    "name": "ipython",
    "version": 3
   },
   "file_extension": ".py",
   "mimetype": "text/x-python",
   "name": "python",
   "nbconvert_exporter": "python",
   "pygments_lexer": "ipython3",
   "version": "3.4.2"
  }
 },
 "nbformat": 4,
 "nbformat_minor": 2
}
